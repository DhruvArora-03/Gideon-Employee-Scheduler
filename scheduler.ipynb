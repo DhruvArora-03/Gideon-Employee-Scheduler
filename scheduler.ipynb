{
 "cells": [
  {
   "cell_type": "code",
   "execution_count": null,
   "metadata": {},
   "outputs": [],
   "source": [
    "class Employee:\n",
    "    def __init__(self, name, id):\n",
    "        self.name = name\n",
    "        self.id = id"
   ]
  },
  {
   "cell_type": "code",
   "execution_count": 3,
   "metadata": {},
   "outputs": [],
   "source": [
    "# return info from the database\n",
    "DATABASE_FILE_NAME = 'database.txt'\n",
    "def get_database_info():\n",
    "    data = [line for line in open(DATABASE_FILE_NAME)]\n",
    "    \n"
   ]
  },
  {
   "cell_type": "code",
   "execution_count": 4,
   "metadata": {},
   "outputs": [
    {
     "name": "stdout",
     "output_type": "stream",
     "text": [
      "Aniket 0000\n",
      "Anushka 0001\n",
      "Jessica 0010\n",
      "Morgan 0011\n",
      "Nitisha 0100\n",
      "Nitya 0101\n",
      "Rohit 0110\n",
      "Sabreen 0111\n",
      "Sharon 1000\n",
      "Sneha 1001\n",
      "\n"
     ]
    }
   ],
   "source": [
    "get_database_info()"
   ]
  }
 ],
 "metadata": {
  "interpreter": {
   "hash": "76c8e95f391aac38e6e8e6041b582cf62e3a27f2121aaf41a3dab4677ed4bce4"
  },
  "kernelspec": {
   "display_name": "Python 3.10.4 64-bit (windows store)",
   "language": "python",
   "name": "python3"
  },
  "language_info": {
   "codemirror_mode": {
    "name": "ipython",
    "version": 3
   },
   "file_extension": ".py",
   "mimetype": "text/x-python",
   "name": "python",
   "nbconvert_exporter": "python",
   "pygments_lexer": "ipython3",
   "version": "3.10.4"
  },
  "orig_nbformat": 4
 },
 "nbformat": 4,
 "nbformat_minor": 2
}
